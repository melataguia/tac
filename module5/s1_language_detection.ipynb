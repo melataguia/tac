{
 "cells": [
  {
   "cell_type": "markdown",
   "metadata": {},
   "source": [
    "# La détection de langue"
   ]
  },
  {
   "cell_type": "markdown",
   "metadata": {},
   "source": [
    "Nous utilisons ici la librairie langid:\n",
    "    \n",
    "https://pypi.org/project/langid/"
   ]
  },
  {
   "cell_type": "markdown",
   "metadata": {},
   "source": [
    "## Imports"
   ]
  },
  {
   "cell_type": "code",
   "execution_count": 1,
   "metadata": {},
   "outputs": [],
   "source": [
    "import os\n",
    "from collections import defaultdict\n",
    "from langid.langid import LanguageIdentifier, model\n",
    "import pycountry"
   ]
  },
  {
   "cell_type": "markdown",
   "metadata": {},
   "source": [
    "## Forcer l'algorithme à ne détecter que du Français et du Néerlandais"
   ]
  },
  {
   "cell_type": "code",
   "execution_count": 14,
   "metadata": {},
   "outputs": [],
   "source": [
    "identifier = LanguageIdentifier.from_modelstring(model, norm_probs=True)\n",
    "#identifier.set_languages([\"fr\", \"nl\"])"
   ]
  },
  {
   "cell_type": "markdown",
   "metadata": {},
   "source": [
    "## Test sur une phrase"
   ]
  },
  {
   "cell_type": "code",
   "execution_count": 15,
   "metadata": {},
   "outputs": [
    {
     "name": "stdout",
     "output_type": "stream",
     "text": [
      "La langue détectée est 'fr' avec une confiance de 100.0 %\n"
     ]
    }
   ],
   "source": [
    "lang, conf = identifier.classify(\"Je suis le cours de TAC à l'ULB.\")\n",
    "print(f\"La langue détectée est '{lang}' avec une confiance de {round(conf*100,2)} %\")"
   ]
  },
  {
   "cell_type": "markdown",
   "metadata": {},
   "source": [
    "## Lister tous les documents"
   ]
  },
  {
   "cell_type": "code",
   "execution_count": 16,
   "metadata": {},
   "outputs": [
    {
     "name": "stdout",
     "output_type": "stream",
     "text": [
      "7936 TXT files found\n"
     ]
    }
   ],
   "source": [
    "root = \"../data/txt/\"\n",
    "txts = os.listdir(root)\n",
    "print(f\"{len(txts)} TXT files found\")"
   ]
  },
  {
   "cell_type": "markdown",
   "metadata": {},
   "source": [
    "## Détecter la langue pour tous les documents"
   ]
  },
  {
   "cell_type": "markdown",
   "metadata": {},
   "source": [
    "Nous allons lire chaque fichier, détecter la langue, et incrémenter `lang_dict` lorsqu'une langue est détectée.\n",
    "\n",
    "**Important** : pour détecter la langues de tous les documents, mettez `limit = None` ci-dessous."
   ]
  },
  {
   "cell_type": "code",
   "execution_count": 17,
   "metadata": {},
   "outputs": [],
   "source": [
    "limit = 500\n",
    "limit = None"
   ]
  },
  {
   "cell_type": "code",
   "execution_count": 18,
   "metadata": {},
   "outputs": [],
   "source": [
    "lang_dict = defaultdict(int)\n",
    "txts = sorted(txts)[:limit] if limit else txts"
   ]
  },
  {
   "cell_type": "code",
   "execution_count": 19,
   "metadata": {},
   "outputs": [
    {
     "name": "stdout",
     "output_type": "stream",
     "text": [
      "0 document(s) processed...\n",
      "KB_JB838_1887-12-23_01-00002.txt contains only 1 characters, treating as unknown\n",
      "50 document(s) processed...\n",
      "100 document(s) processed...\n",
      "150 document(s) processed...\n",
      "200 document(s) processed...\n",
      "250 document(s) processed...\n",
      "300 document(s) processed...\n",
      "350 document(s) processed...\n",
      "400 document(s) processed...\n",
      "450 document(s) processed...\n",
      "500 document(s) processed...\n",
      "550 document(s) processed...\n",
      "600 document(s) processed...\n",
      "650 document(s) processed...\n",
      "700 document(s) processed...\n",
      "750 document(s) processed...\n",
      "800 document(s) processed...\n",
      "850 document(s) processed...\n",
      "900 document(s) processed...\n",
      "950 document(s) processed...\n",
      "1000 document(s) processed...\n",
      "1050 document(s) processed...\n",
      "1100 document(s) processed...\n",
      "1150 document(s) processed...\n",
      "1200 document(s) processed...\n",
      "1250 document(s) processed...\n",
      "1300 document(s) processed...\n",
      "1350 document(s) processed...\n",
      "1400 document(s) processed...\n",
      "1450 document(s) processed...\n",
      "1500 document(s) processed...\n",
      "1550 document(s) processed...\n",
      "1600 document(s) processed...\n",
      "1650 document(s) processed...\n",
      "1700 document(s) processed...\n",
      "1750 document(s) processed...\n",
      "1800 document(s) processed...\n",
      "1850 document(s) processed...\n",
      "1900 document(s) processed...\n",
      "1950 document(s) processed...\n",
      "2000 document(s) processed...\n",
      "2050 document(s) processed...\n",
      "2100 document(s) processed...\n",
      "2150 document(s) processed...\n",
      "2200 document(s) processed...\n",
      "2250 document(s) processed...\n",
      "2300 document(s) processed...\n",
      "2350 document(s) processed...\n",
      "2400 document(s) processed...\n",
      "2450 document(s) processed...\n",
      "2500 document(s) processed...\n",
      "2550 document(s) processed...\n",
      "2600 document(s) processed...\n",
      "2650 document(s) processed...\n",
      "2700 document(s) processed...\n",
      "KB_JB838_1918-12-21_01-00001.txt contains only 1 characters, treating as unknown\n",
      "2750 document(s) processed...\n",
      "2800 document(s) processed...\n",
      "2850 document(s) processed...\n",
      "2900 document(s) processed...\n",
      "2950 document(s) processed...\n",
      "3000 document(s) processed...\n",
      "3050 document(s) processed...\n",
      "3100 document(s) processed...\n",
      "3150 document(s) processed...\n",
      "3200 document(s) processed...\n",
      "3250 document(s) processed...\n",
      "3300 document(s) processed...\n",
      "3350 document(s) processed...\n",
      "3400 document(s) processed...\n",
      "3450 document(s) processed...\n",
      "3500 document(s) processed...\n",
      "3550 document(s) processed...\n",
      "3600 document(s) processed...\n",
      "3650 document(s) processed...\n",
      "3700 document(s) processed...\n",
      "3750 document(s) processed...\n",
      "3800 document(s) processed...\n",
      "3850 document(s) processed...\n",
      "3900 document(s) processed...\n",
      "3950 document(s) processed...\n",
      "4000 document(s) processed...\n",
      "4050 document(s) processed...\n",
      "4100 document(s) processed...\n",
      "4150 document(s) processed...\n",
      "4200 document(s) processed...\n",
      "4250 document(s) processed...\n",
      "4300 document(s) processed...\n",
      "4350 document(s) processed...\n",
      "4400 document(s) processed...\n",
      "4450 document(s) processed...\n",
      "4500 document(s) processed...\n",
      "4550 document(s) processed...\n",
      "4600 document(s) processed...\n",
      "4650 document(s) processed...\n",
      "4700 document(s) processed...\n",
      "4750 document(s) processed...\n",
      "4800 document(s) processed...\n",
      "4850 document(s) processed...\n",
      "4900 document(s) processed...\n",
      "4950 document(s) processed...\n",
      "5000 document(s) processed...\n",
      "5050 document(s) processed...\n",
      "5100 document(s) processed...\n",
      "5150 document(s) processed...\n",
      "5200 document(s) processed...\n",
      "5250 document(s) processed...\n",
      "5300 document(s) processed...\n",
      "5350 document(s) processed...\n",
      "KB_JB838_1945-06-27_01-00002.txt contains only 1 characters, treating as unknown\n",
      "5400 document(s) processed...\n",
      "5450 document(s) processed...\n",
      "5500 document(s) processed...\n",
      "5550 document(s) processed...\n",
      "5600 document(s) processed...\n",
      "5650 document(s) processed...\n",
      "5700 document(s) processed...\n",
      "5750 document(s) processed...\n",
      "5800 document(s) processed...\n",
      "5850 document(s) processed...\n",
      "5900 document(s) processed...\n",
      "5950 document(s) processed...\n",
      "6000 document(s) processed...\n",
      "6050 document(s) processed...\n",
      "6100 document(s) processed...\n",
      "6150 document(s) processed...\n",
      "6200 document(s) processed...\n",
      "6250 document(s) processed...\n",
      "6300 document(s) processed...\n",
      "6350 document(s) processed...\n",
      "6400 document(s) processed...\n",
      "6450 document(s) processed...\n",
      "6500 document(s) processed...\n",
      "6550 document(s) processed...\n",
      "6600 document(s) processed...\n",
      "6650 document(s) processed...\n",
      "6700 document(s) processed...\n",
      "6750 document(s) processed...\n",
      "6800 document(s) processed...\n",
      "6850 document(s) processed...\n",
      "6900 document(s) processed...\n",
      "6950 document(s) processed...\n",
      "7000 document(s) processed...\n",
      "7050 document(s) processed...\n",
      "7100 document(s) processed...\n",
      "7150 document(s) processed...\n",
      "7200 document(s) processed...\n",
      "7250 document(s) processed...\n",
      "7300 document(s) processed...\n",
      "7350 document(s) processed...\n",
      "7400 document(s) processed...\n",
      "7450 document(s) processed...\n",
      "7500 document(s) processed...\n",
      "7550 document(s) processed...\n",
      "7600 document(s) processed...\n",
      "KB_JB838_1967-10-19_01-00018.txt contains only 8 characters, treating as unknown\n",
      "7650 document(s) processed...\n",
      "7700 document(s) processed...\n",
      "7750 document(s) processed...\n",
      "7800 document(s) processed...\n",
      "7850 document(s) processed...\n",
      "7900 document(s) processed...\n",
      "Done\n"
     ]
    }
   ],
   "source": [
    "for i, txt in enumerate(sorted(txts)):\n",
    "    if txt.endswith(\"txt\"):\n",
    "        if i % 50 == 0:\n",
    "            print(f'{i} document(s) processed...')\n",
    "        text = open(os.path.join(root, txt), \"r\", encoding=\"utf-8\").read()\n",
    "        text_length = len(text)\n",
    "        if text_length > 20:\n",
    "            lang, conf = identifier.classify(text)\n",
    "            lang_dict[lang] += 1\n",
    "        else:\n",
    "            print(f\"{txt} contains only {text_length} characters, treating as unknown\")\n",
    "            lang_dict['n/a'] += 1\n",
    "\n",
    "print(\"Done\")"
   ]
  },
  {
   "cell_type": "markdown",
   "metadata": {},
   "source": [
    "## Afficher le nombre de documents par langue"
   ]
  },
  {
   "cell_type": "code",
   "execution_count": 20,
   "metadata": {},
   "outputs": [
    {
     "name": "stdout",
     "output_type": "stream",
     "text": [
      "French\t7914\n",
      "None\t4\n",
      "Lao\t1\n",
      "Walloon\t1\n",
      "Luxembourgish\t3\n",
      "Maltese\t1\n",
      "Latin\t4\n",
      "Dutch\t1\n",
      "Swahili (macrolanguage)\t1\n",
      "Hebrew\t1\n",
      "Armenian\t1\n",
      "English\t2\n",
      "Quechua\t1\n",
      "Welsh\t1\n"
     ]
    }
   ],
   "source": [
    "for lang_code, nb_docs in lang_dict.items():\n",
    "    language = pycountry.languages.get(alpha_2=lang_code)\n",
    "    try:\n",
    "        lang_name = language.name\n",
    "    except AttributeError:\n",
    "        lang_name = language\n",
    "    print(f\"{lang_name}\\t{nb_docs}\")"
   ]
  }
 ],
 "metadata": {
  "kernelspec": {
   "display_name": "Python 3.10.5 ('tac_venv': venv)",
   "language": "python",
   "name": "python3"
  },
  "language_info": {
   "codemirror_mode": {
    "name": "ipython",
    "version": 3
   },
   "file_extension": ".py",
   "mimetype": "text/x-python",
   "name": "python",
   "nbconvert_exporter": "python",
   "pygments_lexer": "ipython3",
   "version": "3.11.3"
  },
  "vscode": {
   "interpreter": {
    "hash": "b1932ab1d169b4769d1550e799423b6477588e745f266d79d9004c136c81607e"
   }
  }
 },
 "nbformat": 4,
 "nbformat_minor": 4
}

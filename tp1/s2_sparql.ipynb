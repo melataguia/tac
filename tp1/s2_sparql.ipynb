{
 "cells": [
  {
   "cell_type": "markdown",
   "metadata": {},
   "source": [
    "# Bases de connaissance : interroger Wikidata à l'aide de requêtes SPARQL"
   ]
  },
  {
   "cell_type": "markdown",
   "metadata": {},
   "source": [
    "## Imports"
   ]
  },
  {
   "cell_type": "code",
   "execution_count": 1,
   "metadata": {},
   "outputs": [],
   "source": [
    "from datetime import datetime as dt\n",
    "from SPARQLWrapper import SPARQLWrapper, JSON"
   ]
  },
  {
   "cell_type": "markdown",
   "metadata": {},
   "source": [
    "## Obtenir la liste des politiciens belges"
   ]
  },
  {
   "cell_type": "code",
   "execution_count": null,
   "metadata": {},
   "outputs": [],
   "source": [
    "# Retrieve results from SPARQL\n",
    "endpoint = \"https://query.wikidata.org/bigdata/namespace/wdq/sparql\"\n",
    "sparql = SPARQLWrapper(endpoint)\n",
    "\n",
    "# P27 = country of citizenship \n",
    "# Q31 = Belgium\n",
    "# P106 = Opccupation\n",
    "# Q82955 = Politician\n",
    "# P569 = date of birth\n",
    "# P570 = date of death\n",
    "\n",
    "# Dans cette requête, j'ai essayé de sélectionner des œuvres littéraires, des auteurs ainsi que les labels en français.\n",
    "# Apports pour Camille : Cette requête peut aider à sélectionner les différents noms d'auteurs dans le corpus et à classer les corpus déjà par auteur ou maison d'édition.\n",
    "# Et aussi, même si cela reste ambigu, vu que c'est un corpus et que nous devons définir des critères pour reconnaître les noms d'auteurs ou de maisons d'édition avant de pouvoir les sélectionner et organiser .\n",
    "# Le résultat dans notre requête a été limité à 20, vu le nombre important de résultats, et sans le \"LIMIT\", on ne pourrait facilement afficher tout le résultat.\n",
    "\n",
    "statement = \"\"\"\n",
    "SELECT ?oeuvre ?oeuvreLabel ?auteur ?auteurLabel ?maisonEdition ?maisonEditionLabel ?oeuvreDescription\n",
    "WHERE {\n",
    "  ?oeuvre wdt:P31 wd:Q7725634.            \n",
    "  ?oeuvre wdt:P50 ?auteur.                 \n",
    "  ?oeuvre wdt:P123 ?maisonEdition.         \n",
    "\n",
    "  SERVICE wikibase:label {\n",
    "    bd:serviceParam wikibase:language \"fr\" .\n",
    "    ?oeuvre rdfs:label ?oeuvreLabel .\n",
    "    ?auteur rdfs:label ?auteurLabel .\n",
    "    ?maisonEdition rdfs:label ?maisonEditionLabel .\n",
    "    ?oeuvre schema:description ?oeuvreDescription .\n",
    "  }\n",
    "}\n",
    "LIMIT 20\n",
    "\n",
    "\"\"\"\n",
    "\n",
    "sparql.setQuery(statement)\n",
    "sparql.setReturnFormat(JSON)\n",
    "\n",
    "results = sparql.query().convert()\n",
    "\n",
    "rows = results['results']['bindings']\n",
    "print(f\"\\n{len(rows)} Noms \\n\")\n",
    "print(rows[:20])\n"
   ]
  },
  {
   "cell_type": "markdown",
   "metadata": {},
   "source": [
    "## Filtrer pour n'afficher que les noms contenant \"Alphonse\""
   ]
  },
  {
   "cell_type": "code",
   "execution_count": null,
   "metadata": {},
   "outputs": [],
   "source": [
    "\n",
    "sparql.setQuery(statement)\n",
    "sparql.setReturnFormat(JSON)\n",
    "\n",
    "results = sparql.query().convert()\n",
    "\n",
    "rows = results['results']['bindings']\n",
    "print(f\"\\n{len(rows)} Noms \\n\")\n",
    "\n",
    "for row in rows:\n",
    "    oeuvre_label = row['oeuvreLabel']['value']\n",
    "    auteur_label = row['auteurLabel']['value']\n",
    "    maison_edition_label = row['maisonEditionLabel']['value']\n",
    "    oeuvre_description = row['oeuvreDescription']['value']\n",
    "\n",
    "    print(f\"Œuvre : {oeuvre_label}\")\n",
    "    print(f\"Auteur : {auteur_label}\")\n",
    "    print(f\"Maison d'édition : {maison_edition_label}\")\n",
    "    print(f\"Description de l'œuvre : {oeuvre_description}\\n\")"
   ]
  },
  {
   "cell_type": "markdown",
   "metadata": {},
   "source": [
    "## Pour en savoir plus"
   ]
  },
  {
   "cell_type": "markdown",
   "metadata": {},
   "source": [
    "- [Le projet Wikidata](https://www.wikidata.org/wiki/Wikidata:Main_Page)\n",
    "- [Aide à la construction de requêtes](https://query.wikidata.org/)"
   ]
  }
 ],
 "metadata": {
  "kernelspec": {
   "display_name": "Python 3.10.5 ('venv_tac': venv)",
   "language": "python",
   "name": "python3"
  },
  "language_info": {
   "codemirror_mode": {
    "name": "ipython",
    "version": 3
   },
   "file_extension": ".py",
   "mimetype": "text/x-python",
   "name": "python",
   "nbconvert_exporter": "python",
   "pygments_lexer": "ipython3",
   "version": "3.11.3"
  },
  "vscode": {
   "interpreter": {
    "hash": "a942b0119f0c2604d4302f32a2a6e790f63eb4c9b0c297be7a26bd56fa8e02c6"
   }
  }
 },
 "nbformat": 4,
 "nbformat_minor": 4
}

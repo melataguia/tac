{
 "cells": [
  {
   "cell_type": "markdown",
   "metadata": {},
   "source": [
    "# APIs: requêtes HTTP"
   ]
  },
  {
   "cell_type": "markdown",
   "metadata": {},
   "source": [
    "## Imports"
   ]
  },
  {
   "cell_type": "code",
   "execution_count": 39,
   "metadata": {},
   "outputs": [],
   "source": [
    "import json\n",
    "import requests\n",
    "import textrazor"
   ]
  },
  {
   "cell_type": "markdown",
   "metadata": {},
   "source": [
    "## Utilisation de textrazor (https://www.textrazor.com/) pour connaître les noms dans un corpus "
   ]
  },
  {
   "cell_type": "code",
   "execution_count": 53,
   "metadata": {},
   "outputs": [
    {
     "name": "stdout",
     "output_type": "stream",
     "text": [
      "Nom: Benjamin 0 0.5 ['/people/person']\n",
      "Nom: Amazone (fleuve) 0.08507 2.29 ['/film/film_subject', '/geography/river', '/travel/travel_destination', '/geography/body_of_water', '/geography/geographical_feature', '/location/location']\n",
      "Nom: Les Aventures de Robin des Bois (film, 1938) 0.1115 2.411 ['/media_common/netflix_title', '/award/award_nominated_work', '/award/ranked_item', '/film/film', '/award/award_winning_work']\n",
      "Nom: Kilimandjaro 0.1888 3.95 ['/geography/mountain', '/film/film_location', '/book/book_subject', '/organization/organization_scope', '/travel/tourist_attraction', '/location/location', '/film/film_subject', '/geography/geographical_feature']\n",
      "Nom: Tour du monde 0.226 1.144 []\n",
      "Nom: Jules Verne 0.2116 7.619 ['/people/deceased_person', '/film/film_story_contributor', '/fictional_universe/fictional_character_creator', '/award/award_nominee', '/award/hall_of_fame_inductee', '/film/writer', '/music/group_member', '/media_common/dedicator', '/music/artist', '/book/author', '/symbols/name_source', '/music/lyricist', '/fictional_universe/fictional_universe_creator', '/influence/influence_node', '/people/person']\n",
      "Nom: Tintin 0.2446 7.972 ['/book/book_character', '/fictional_universe/fictional_character', '/film/film_character', '/celebrities/celebrity', '/comic_books/comic_book_character', '/cvg/game_character']\n",
      "Nom: Château de Versailles 0.1988 6.716 ['/location/location', '/film/film_location', '/architecture/landscape_project', '/travel/tourist_attraction', '/projects/project_focus', '/music/performance_venue', '/architecture/building', '/architecture/structure', '/visual_art/art_subject', '/protected_sites/listed_site', '/architecture/venue', '/travel/travel_destination']\n",
      "Nom: Vaisseau spatial 0.1053 1.744 []\n",
      "Nom: Saturne (planète) 0.1612 2.816 ['/exhibitions/exhibition_subject', '/astronomy/star_system_body', '/astronomy/orbital_relationship', '/symbols/namesake', '/astronomy/celestial_object', '/book/book_subject', '/astronomy/planet', '/spaceflight/mission_destination', '/fictional_universe/fictional_setting']\n",
      "Nom: Pinocchio 0.2188 4.209 ['/symbols/name_source', '/theater/theater_character', '/book/book_subject', '/fictional_universe/fictional_character', '/opera/opera_character', '/film/film_character', '/tv/tv_character', '/book/book_character', '/fictional_universe/person_in_fiction']\n"
     ]
    }
   ],
   "source": [
    "\n",
    "textrazor.api_key = \"836fe022992483d3c36ea709408d3ea62a708692137374f8fdef5bd6\"\n",
    "\n",
    "\n",
    "client = textrazor.TextRazor(extractors=[\"entities\"])\n",
    "\n",
    "\n",
    "corpus = \"Benjamin adore lire. Il connaît toutes les aventures de Robin des Bois. Il a lu vingt fois les histoires de Pinocchio. Les jours de pluie, il s'enferme dans sa chambre, au milieu de ses livres...Avec eux, il ne s'ennuie jamais. Tantôt il glisse sur le grand fleuve Amazone ou grimpeau sommet du Kilimandjaro, tantôt il fait le tour du monde avec Jules Verne ou s'évade avec Tintin, son héros préféré. Une heure, le voici garde du roi au château de Versailles. L'heure suivante, il est à bord d'un vaisseau spatial vers Mars ou Saturne.\"\n",
    "\n",
    "response = client.analyze(corpus)\n",
    "\n",
    "for entity in response.entities():\n",
    "    print(\"Nom:\", entity.id, entity.relevance_score, entity.confidence_score, entity.freebase_types)\n",
    "\n",
    "\n"
   ]
  },
  {
   "cell_type": "markdown",
   "metadata": {},
   "source": [
    "## Utiliser RapidAPI pour récupérer des informations sur la langue et le niveau de precision de cette langue "
   ]
  },
  {
   "cell_type": "markdown",
   "metadata": {},
   "source": [
    "https://rapidapi.com"
   ]
  },
  {
   "cell_type": "code",
   "execution_count": 36,
   "metadata": {},
   "outputs": [
    {
     "name": "stdout",
     "output_type": "stream",
     "text": [
      "{'app_version': 'v1.1', 'time_taken': 0.0037724971771240234, 'msg': 'language detection successful', 'ok': True, 'language_probability': {'fr': '0.9999955773289029'}}\n"
     ]
    }
   ],
   "source": [
    "\n",
    "url = \"https://text-analysis12.p.rapidapi.com/language-detection/api/v1.1\"\n",
    "\n",
    "\n",
    "corpus = \"Les quatre saisons L’automne débute fin septembre. Durant cette saison, les feuilles des arbres tombent et couvrent le sol d’un tapis brun, rouge et jaune. Le temps devient de plus en plus frais, il commence à y avoir de la pluie et du vent. C’est le moment de sortir son manteau et son parapluie ! L’automne est aussi la saison des récoltes : on ramasse le maïs, le tournesol, les pommes, le raisin…\"\n",
    "\n",
    "payload = { \"text\": corpus }  \n",
    "\n",
    "headers = {\n",
    "\t\"content-type\": \"application/json\",\n",
    "\t\"X-RapidAPI-Key\": \"e7eca120dfmsh16bb43af8c9654ap1572f0jsn5bb068cc2788\",\n",
    "\t\"X-RapidAPI-Host\": \"text-analysis12.p.rapidapi.com\"\n",
    "}\n",
    "\n",
    "response = requests.post(url, json=payload, headers=headers)\n",
    "\n",
    "print(response.json())"
   ]
  },
  {
   "cell_type": "markdown",
   "metadata": {},
   "source": [
    "## Pour en savoir plus"
   ]
  },
  {
   "cell_type": "markdown",
   "metadata": {},
   "source": [
    "- Les API Rest: https://towardsdatascience.com/introduction-to-rest-apis-90b5d9676004\n",
    "- La librairie [`requests`](https://requests.readthedocs.io/en/latest/)\n",
    "- Développer une API en Python : https://openclassrooms.com/en/courses/4525361-realisez-un-dashboard-avec-tableau/5774811-creez-une-api-avec-flask"
   ]
  }
 ],
 "metadata": {
  "kernelspec": {
   "display_name": "Python 3.10.5 ('tac_venv': venv)",
   "language": "python",
   "name": "python3"
  },
  "language_info": {
   "codemirror_mode": {
    "name": "ipython",
    "version": 3
   },
   "file_extension": ".py",
   "mimetype": "text/x-python",
   "name": "python",
   "nbconvert_exporter": "python",
   "pygments_lexer": "ipython3",
   "version": "3.11.3"
  },
  "vscode": {
   "interpreter": {
    "hash": "b1932ab1d169b4769d1550e799423b6477588e745f266d79d9004c136c81607e"
   }
  }
 },
 "nbformat": 4,
 "nbformat_minor": 4
}
